{
  "nbformat": 4,
  "nbformat_minor": 0,
  "metadata": {
    "colab": {
      "name": "install-anuga.ipynb",
      "version": "0.3.2",
      "provenance": []
    },
    "kernelspec": {
      "name": "python2",
      "display_name": "Python 2"
    }
  },
  "cells": [
    {
      "cell_type": "markdown",
      "metadata": {
        "id": "view-in-github",
        "colab_type": "text"
      },
      "source": [
        "[View in Colaboratory](https://colab.research.google.com/github/stoiver/anuga-clinic-2018/blob/master/install_anuga.ipynb)"
      ]
    },
    {
      "metadata": {
        "id": "ZKaPbaOiYRdM",
        "colab_type": "code",
        "colab": {}
      },
      "cell_type": "code",
      "source": [
        ""
      ],
      "execution_count": 0,
      "outputs": []
    },
    {
      "metadata": {
        "id": "MFkDMm10DPK7",
        "colab_type": "text"
      },
      "cell_type": "markdown",
      "source": [
        "# Install ANUGA and Dependencies\n",
        "\n",
        "## Install libraies\n",
        "\n",
        "First we use `pip` and `apt-get` to install the `NETCDF4` and `gdal` libraries."
      ]
    },
    {
      "metadata": {
        "id": "dxT7B6U9YqtB",
        "colab_type": "code",
        "colab": {
          "base_uri": "https://localhost:8080/",
          "height": 119
        },
        "outputId": "34a19347-5898-428f-d29a-905efae9774a"
      },
      "cell_type": "code",
      "source": [
        "!pip -q install netCDF4 nose\n",
        "!apt-get install python-gdal gdal-bin\n",
        "\n",
        "\n",
        "!git clone https://github.com/GeoscienceAustralia/anuga_core.git\n",
        "cd anuga_core/\n",
        "!python setup.py install\n",
        "cd .."
      ],
      "execution_count": 2,
      "outputs": [
        {
          "output_type": "stream",
          "text": [
            "Cloning into 'anuga_core'...\n",
            "remote: Counting objects: 29965, done.\u001b[K\n",
            "remote: Compressing objects: 100% (6/6), done.\u001b[K\n",
            "remote: Total 29965 (delta 0), reused 0 (delta 0), pack-reused 29959\u001b[K\n",
            "Receiving objects: 100% (29965/29965), 37.39 MiB | 35.38 MiB/s, done.\n",
            "Resolving deltas: 100% (22088/22088), done.\n"
          ],
          "name": "stdout"
        }
      ]
    },
    {
      "metadata": {
        "id": "Lutrc9nPYxtu",
        "colab_type": "code",
        "colab": {
          "base_uri": "https://localhost:8080/",
          "height": 34
        },
        "outputId": "d4a8a8cb-aaf8-45f1-e6c7-4d5f774bed25"
      },
      "cell_type": "code",
      "source": [
        "#import os\n",
        "#os.chdir('anuga_core')\n"
      ],
      "execution_count": 4,
      "outputs": [
        {
          "output_type": "stream",
          "text": [
            "/content/anuga_core\n"
          ],
          "name": "stdout"
        }
      ]
    },
    {
      "metadata": {
        "id": "lEB7H_8cY40l",
        "colab_type": "code",
        "colab": {
          "base_uri": "https://localhost:8080/",
          "height": 4726
        },
        "outputId": "badae43f-f900-400d-c671-18632de747fd"
      },
      "cell_type": "code",
      "source": [
        ""
      ],
      "execution_count": 13,
      "outputs": [
        {
          "output_type": "stream",
          "text": [
            "Reading package lists... Done\n",
            "Building dependency tree       \n",
            "Reading state information... Done\n",
            "The following additional packages will be installed:\n",
            "  gdal-data libarmadillo7 libarpack2 libdap25 libdapclient6v5 libepsilon1\n",
            "  libfreexl1 libfyba0 libgdal20 libgeos-3.5.1 libgeos-c1v5 libgeotiff2 libgif7\n",
            "  libhdf4-0-alt libjbig0 libjson-c3 libkmlbase1 libkmldom1 libkmlengine1\n",
            "  liblcms2-2 libltdl7 libminizip1 libmysqlclient20 libnetcdf11 libnspr4\n",
            "  libnss3 libodbc1 libogdi3.2 libopenjp2-7 libpoppler68 libpq5 libproj12\n",
            "  libqhull7 libspatialite7 libsuperlu5 libtiff5 liburiparser1 libwebp6\n",
            "  libxerces-c3.1 mysql-common odbcinst odbcinst1debian2 poppler-data proj-bin\n",
            "  proj-data python-numpy\n",
            "Suggested packages:\n",
            "  libgdal-grass geotiff-bin libgeotiff-epsg libhdf4-doc libhdf4-alt-dev\n",
            "  hdf4-tools liblcms2-utils libmyodbc odbc-postgresql tdsodbc unixodbc-bin\n",
            "  ogdi-bin poppler-utils ghostscript fonts-japanese-mincho\n",
            "  | fonts-ipafont-mincho fonts-japanese-gothic | fonts-ipafont-gothic\n",
            "  fonts-arphic-ukai fonts-arphic-uming fonts-nanum python-nose\n",
            "  python-numpy-dbg python-numpy-doc\n",
            "The following NEW packages will be installed:\n",
            "  gdal-bin gdal-data libarmadillo7 libarpack2 libdap25 libdapclient6v5\n",
            "  libepsilon1 libfreexl1 libfyba0 libgdal20 libgeos-3.5.1 libgeos-c1v5\n",
            "  libgeotiff2 libgif7 libhdf4-0-alt libjbig0 libjson-c3 libkmlbase1 libkmldom1\n",
            "  libkmlengine1 liblcms2-2 libltdl7 libminizip1 libmysqlclient20 libnetcdf11\n",
            "  libnspr4 libnss3 libodbc1 libogdi3.2 libopenjp2-7 libpoppler68 libpq5\n",
            "  libproj12 libqhull7 libspatialite7 libsuperlu5 libtiff5 liburiparser1\n",
            "  libwebp6 libxerces-c3.1 mysql-common odbcinst odbcinst1debian2 poppler-data\n",
            "  proj-bin proj-data python-gdal python-numpy\n",
            "0 upgraded, 48 newly installed, 0 to remove and 0 not upgraded.\n",
            "Need to get 22.6 MB of archives.\n",
            "After this operation, 98.7 MB of additional disk space will be used.\n",
            "Get:1 http://archive.ubuntu.com/ubuntu artful/main amd64 poppler-data all 0.4.8-1 [1,476 kB]\n",
            "Get:2 http://archive.ubuntu.com/ubuntu artful/main amd64 libjbig0 amd64 2.1-3.1 [26.6 kB]\n",
            "Get:3 http://archive.ubuntu.com/ubuntu artful/main amd64 libjson-c3 amd64 0.12.1-1.2 [21.5 kB]\n",
            "Get:4 http://archive.ubuntu.com/ubuntu artful/universe amd64 gdal-data all 2.2.1+dfsg-2build3 [363 kB]\n",
            "Get:5 http://archive.ubuntu.com/ubuntu artful/universe amd64 libarpack2 amd64 3.5.0+real-1 [89.7 kB]\n",
            "Get:6 http://archive.ubuntu.com/ubuntu artful/universe amd64 libsuperlu5 amd64 5.2.1+dfsg1-2 [158 kB]\n",
            "Get:7 http://archive.ubuntu.com/ubuntu artful/universe amd64 libarmadillo7 amd64 1:7.960.1+dfsg-1 [78.1 kB]\n",
            "Get:8 http://archive.ubuntu.com/ubuntu artful/universe amd64 libdap25 amd64 3.19.0-1 [435 kB]\n",
            "Get:9 http://archive.ubuntu.com/ubuntu artful/universe amd64 libdapclient6v5 amd64 3.19.0-1 [94.1 kB]\n",
            "Get:10 http://archive.ubuntu.com/ubuntu artful/universe amd64 libepsilon1 amd64 0.9.2+dfsg-2 [41.2 kB]\n",
            "Get:11 http://archive.ubuntu.com/ubuntu artful/universe amd64 libfreexl1 amd64 1.0.3-1 [33.5 kB]\n",
            "Get:12 http://archive.ubuntu.com/ubuntu artful/universe amd64 libfyba0 amd64 4.1.1-3 [110 kB]\n",
            "Get:13 http://archive.ubuntu.com/ubuntu artful/universe amd64 libgeos-3.5.1 amd64 3.5.1-3 [474 kB]\n",
            "Get:14 http://archive.ubuntu.com/ubuntu artful/universe amd64 libgeos-c1v5 amd64 3.5.1-3 [51.6 kB]\n",
            "Get:15 http://archive.ubuntu.com/ubuntu artful/universe amd64 proj-data all 4.9.3-2 [4,020 kB]\n",
            "Get:16 http://archive.ubuntu.com/ubuntu artful/universe amd64 libproj12 amd64 4.9.3-2 [159 kB]\n",
            "Get:17 http://archive.ubuntu.com/ubuntu artful-updates/main amd64 libtiff5 amd64 4.0.8-5ubuntu0.1 [150 kB]\n",
            "Get:18 http://archive.ubuntu.com/ubuntu artful/universe amd64 libgeotiff2 amd64 1.4.2-2build1 [58.5 kB]\n",
            "Get:19 http://archive.ubuntu.com/ubuntu artful/main amd64 libgif7 amd64 5.1.4-1 [30.7 kB]\n",
            "Get:20 http://archive.ubuntu.com/ubuntu artful/universe amd64 libhdf4-0-alt amd64 4.2.13-1 [269 kB]\n",
            "Get:21 http://archive.ubuntu.com/ubuntu artful/universe amd64 libminizip1 amd64 1.1-8 [20.3 kB]\n",
            "Get:22 http://archive.ubuntu.com/ubuntu artful/universe amd64 liburiparser1 amd64 0.8.4-1 [38.0 kB]\n",
            "Get:23 http://archive.ubuntu.com/ubuntu artful/universe amd64 libkmlbase1 amd64 1.3.0-4 [44.4 kB]\n",
            "Get:24 http://archive.ubuntu.com/ubuntu artful/universe amd64 libkmldom1 amd64 1.3.0-4 [171 kB]\n",
            "Get:25 http://archive.ubuntu.com/ubuntu artful/universe amd64 libkmlengine1 amd64 1.3.0-4 [73.8 kB]\n",
            "Get:26 http://archive.ubuntu.com/ubuntu artful/main amd64 mysql-common all 5.8+1.0.2ubuntu1 [5,782 B]\n",
            "Get:27 http://archive.ubuntu.com/ubuntu artful-updates/main amd64 libmysqlclient20 amd64 5.7.22-0ubuntu0.17.10.1 [815 kB]\n",
            "Get:28 http://archive.ubuntu.com/ubuntu artful/universe amd64 libnetcdf11 amd64 1:4.4.1.1-2ubuntu1 [292 kB]\n",
            "Get:29 http://archive.ubuntu.com/ubuntu artful/main amd64 libltdl7 amd64 2.4.6-2 [38.8 kB]\n",
            "Get:30 http://archive.ubuntu.com/ubuntu artful/main amd64 libodbc1 amd64 2.3.4-1 [183 kB]\n",
            "Get:31 http://archive.ubuntu.com/ubuntu artful/universe amd64 libogdi3.2 amd64 3.2.0+ds-2 [213 kB]\n",
            "Get:32 http://archive.ubuntu.com/ubuntu artful/universe amd64 libopenjp2-7 amd64 2.2.0-1 [133 kB]\n",
            "Get:33 http://archive.ubuntu.com/ubuntu artful/main amd64 liblcms2-2 amd64 2.7-1ubuntu1 [137 kB]\n",
            "Get:34 http://archive.ubuntu.com/ubuntu artful/main amd64 libnspr4 amd64 2:4.16-1ubuntu2 [112 kB]\n",
            "Get:35 http://archive.ubuntu.com/ubuntu artful/main amd64 libnss3 amd64 2:3.32-1ubuntu3 [1,141 kB]\n",
            "Get:36 http://archive.ubuntu.com/ubuntu artful-updates/main amd64 libpoppler68 amd64 0.57.0-2ubuntu4.2 [787 kB]\n",
            "Get:37 http://archive.ubuntu.com/ubuntu artful-updates/main amd64 libpq5 amd64 9.6.8-0ubuntu0.17.10 [80.9 kB]\n",
            "Get:38 http://archive.ubuntu.com/ubuntu artful/universe amd64 libqhull7 amd64 2015.2-2 [151 kB]\n",
            "Get:39 http://archive.ubuntu.com/ubuntu artful/universe amd64 libspatialite7 amd64 4.3.0a-5build1 [1,224 kB]\n",
            "Get:40 http://archive.ubuntu.com/ubuntu artful/main amd64 libwebp6 amd64 0.6.0-3 [181 kB]\n",
            "Get:41 http://archive.ubuntu.com/ubuntu artful/universe amd64 libxerces-c3.1 amd64 3.1.4+debian-2 [839 kB]\n",
            "Get:42 http://archive.ubuntu.com/ubuntu artful/main amd64 odbcinst amd64 2.3.4-1 [12.8 kB]\n",
            "Get:43 http://archive.ubuntu.com/ubuntu artful/main amd64 odbcinst1debian2 amd64 2.3.4-1 [41.2 kB]\n",
            "Get:44 http://archive.ubuntu.com/ubuntu artful/universe amd64 libgdal20 amd64 2.2.1+dfsg-2build3 [5,100 kB]\n",
            "Get:45 http://archive.ubuntu.com/ubuntu artful/universe amd64 gdal-bin amd64 2.2.1+dfsg-2build3 [168 kB]\n",
            "Get:46 http://archive.ubuntu.com/ubuntu artful/main amd64 python-numpy amd64 1:1.12.1-3.1ubuntu4 [1,885 kB]\n",
            "Get:47 http://archive.ubuntu.com/ubuntu artful/universe amd64 python-gdal amd64 2.2.1+dfsg-2build3 [552 kB]\n",
            "Get:48 http://archive.ubuntu.com/ubuntu artful/universe amd64 proj-bin amd64 4.9.3-2 [32.3 kB]\n",
            "Fetched 22.6 MB in 2s (7,600 kB/s)\n",
            "Extracting templates from packages: 62%"
          ],
          "name": "stdout"
        },
        {
          "output_type": "stream",
          "text": [
            "Extracting templates from packages: 100%\n",
            "Selecting previously unselected package poppler-data.\n",
            "(Reading database ... 18298 files and directories currently installed.)\n",
            "Preparing to unpack .../00-poppler-data_0.4.8-1_all.deb ...\n",
            "Unpacking poppler-data (0.4.8-1) ...\n",
            "Selecting previously unselected package libjbig0:amd64.\n",
            "Preparing to unpack .../01-libjbig0_2.1-3.1_amd64.deb ...\n",
            "Unpacking libjbig0:amd64 (2.1-3.1) ...\n",
            "Selecting previously unselected package libjson-c3:amd64.\n",
            "Preparing to unpack .../02-libjson-c3_0.12.1-1.2_amd64.deb ...\n",
            "Unpacking libjson-c3:amd64 (0.12.1-1.2) ...\n",
            "Selecting previously unselected package gdal-data.\n",
            "Preparing to unpack .../03-gdal-data_2.2.1+dfsg-2build3_all.deb ...\n",
            "Unpacking gdal-data (2.2.1+dfsg-2build3) ...\n",
            "Selecting previously unselected package libarpack2:amd64.\n",
            "Preparing to unpack .../04-libarpack2_3.5.0+real-1_amd64.deb ...\n",
            "Unpacking libarpack2:amd64 (3.5.0+real-1) ...\n",
            "Selecting previously unselected package libsuperlu5:amd64.\n",
            "Preparing to unpack .../05-libsuperlu5_5.2.1+dfsg1-2_amd64.deb ...\n",
            "Unpacking libsuperlu5:amd64 (5.2.1+dfsg1-2) ...\n",
            "Selecting previously unselected package libarmadillo7.\n",
            "Preparing to unpack .../06-libarmadillo7_1%3a7.960.1+dfsg-1_amd64.deb ...\n",
            "Unpacking libarmadillo7 (1:7.960.1+dfsg-1) ...\n",
            "Selecting previously unselected package libdap25:amd64.\n",
            "Preparing to unpack .../07-libdap25_3.19.0-1_amd64.deb ...\n",
            "Unpacking libdap25:amd64 (3.19.0-1) ...\n",
            "Selecting previously unselected package libdapclient6v5:amd64.\n",
            "Preparing to unpack .../08-libdapclient6v5_3.19.0-1_amd64.deb ...\n",
            "Unpacking libdapclient6v5:amd64 (3.19.0-1) ...\n",
            "Selecting previously unselected package libepsilon1:amd64.\n",
            "Preparing to unpack .../09-libepsilon1_0.9.2+dfsg-2_amd64.deb ...\n",
            "Unpacking libepsilon1:amd64 (0.9.2+dfsg-2) ...\n",
            "Selecting previously unselected package libfreexl1:amd64.\n",
            "Preparing to unpack .../10-libfreexl1_1.0.3-1_amd64.deb ...\n",
            "Unpacking libfreexl1:amd64 (1.0.3-1) ...\n",
            "Selecting previously unselected package libfyba0:amd64.\n",
            "Preparing to unpack .../11-libfyba0_4.1.1-3_amd64.deb ...\n",
            "Unpacking libfyba0:amd64 (4.1.1-3) ...\n",
            "Selecting previously unselected package libgeos-3.5.1.\n",
            "Preparing to unpack .../12-libgeos-3.5.1_3.5.1-3_amd64.deb ...\n",
            "Unpacking libgeos-3.5.1 (3.5.1-3) ...\n",
            "Selecting previously unselected package libgeos-c1v5.\n",
            "Preparing to unpack .../13-libgeos-c1v5_3.5.1-3_amd64.deb ...\n",
            "Unpacking libgeos-c1v5 (3.5.1-3) ...\n",
            "Selecting previously unselected package proj-data.\n",
            "Preparing to unpack .../14-proj-data_4.9.3-2_all.deb ...\n",
            "Unpacking proj-data (4.9.3-2) ...\n",
            "Selecting previously unselected package libproj12:amd64.\n",
            "Preparing to unpack .../15-libproj12_4.9.3-2_amd64.deb ...\n",
            "Unpacking libproj12:amd64 (4.9.3-2) ...\n",
            "Selecting previously unselected package libtiff5:amd64.\n",
            "Preparing to unpack .../16-libtiff5_4.0.8-5ubuntu0.1_amd64.deb ...\n",
            "Unpacking libtiff5:amd64 (4.0.8-5ubuntu0.1) ...\n",
            "Selecting previously unselected package libgeotiff2:amd64.\n",
            "Preparing to unpack .../17-libgeotiff2_1.4.2-2build1_amd64.deb ...\n",
            "Unpacking libgeotiff2:amd64 (1.4.2-2build1) ...\n",
            "Selecting previously unselected package libgif7:amd64.\n",
            "Preparing to unpack .../18-libgif7_5.1.4-1_amd64.deb ...\n",
            "Unpacking libgif7:amd64 (5.1.4-1) ...\n",
            "Selecting previously unselected package libhdf4-0-alt.\n",
            "Preparing to unpack .../19-libhdf4-0-alt_4.2.13-1_amd64.deb ...\n",
            "Unpacking libhdf4-0-alt (4.2.13-1) ...\n",
            "Selecting previously unselected package libminizip1:amd64.\n",
            "Preparing to unpack .../20-libminizip1_1.1-8_amd64.deb ...\n",
            "Unpacking libminizip1:amd64 (1.1-8) ...\n",
            "Selecting previously unselected package liburiparser1:amd64.\n",
            "Preparing to unpack .../21-liburiparser1_0.8.4-1_amd64.deb ...\n",
            "Unpacking liburiparser1:amd64 (0.8.4-1) ...\n",
            "Selecting previously unselected package libkmlbase1:amd64.\n",
            "Preparing to unpack .../22-libkmlbase1_1.3.0-4_amd64.deb ...\n",
            "Unpacking libkmlbase1:amd64 (1.3.0-4) ...\n",
            "Selecting previously unselected package libkmldom1:amd64.\n",
            "Preparing to unpack .../23-libkmldom1_1.3.0-4_amd64.deb ...\n",
            "Unpacking libkmldom1:amd64 (1.3.0-4) ...\n",
            "Selecting previously unselected package libkmlengine1:amd64.\n",
            "Preparing to unpack .../24-libkmlengine1_1.3.0-4_amd64.deb ...\n",
            "Unpacking libkmlengine1:amd64 (1.3.0-4) ...\n",
            "Selecting previously unselected package mysql-common.\n",
            "Preparing to unpack .../25-mysql-common_5.8+1.0.2ubuntu1_all.deb ...\n",
            "Unpacking mysql-common (5.8+1.0.2ubuntu1) ...\n",
            "Selecting previously unselected package libmysqlclient20:amd64.\n",
            "Preparing to unpack .../26-libmysqlclient20_5.7.22-0ubuntu0.17.10.1_amd64.deb ...\n",
            "Unpacking libmysqlclient20:amd64 (5.7.22-0ubuntu0.17.10.1) ...\n",
            "Selecting previously unselected package libnetcdf11.\n",
            "Preparing to unpack .../27-libnetcdf11_1%3a4.4.1.1-2ubuntu1_amd64.deb ...\n",
            "Unpacking libnetcdf11 (1:4.4.1.1-2ubuntu1) ...\n",
            "Selecting previously unselected package libltdl7:amd64.\n",
            "Preparing to unpack .../28-libltdl7_2.4.6-2_amd64.deb ...\n",
            "Unpacking libltdl7:amd64 (2.4.6-2) ...\n",
            "Selecting previously unselected package libodbc1:amd64.\n",
            "Preparing to unpack .../29-libodbc1_2.3.4-1_amd64.deb ...\n",
            "Unpacking libodbc1:amd64 (2.3.4-1) ...\n"
          ],
          "name": "stdout"
        },
        {
          "output_type": "stream",
          "text": [
            "Selecting previously unselected package libogdi3.2.\r\n",
            "Preparing to unpack .../30-libogdi3.2_3.2.0+ds-2_amd64.deb ...\r\n",
            "Unpacking libogdi3.2 (3.2.0+ds-2) ...\n",
            "Selecting previously unselected package libopenjp2-7:amd64.\n",
            "Preparing to unpack .../31-libopenjp2-7_2.2.0-1_amd64.deb ...\n",
            "Unpacking libopenjp2-7:amd64 (2.2.0-1) ...\n",
            "Selecting previously unselected package liblcms2-2:amd64.\n",
            "Preparing to unpack .../32-liblcms2-2_2.7-1ubuntu1_amd64.deb ...\n",
            "Unpacking liblcms2-2:amd64 (2.7-1ubuntu1) ...\n",
            "Selecting previously unselected package libnspr4:amd64.\n",
            "Preparing to unpack .../33-libnspr4_2%3a4.16-1ubuntu2_amd64.deb ...\n",
            "Unpacking libnspr4:amd64 (2:4.16-1ubuntu2) ...\n",
            "Selecting previously unselected package libnss3:amd64.\n",
            "Preparing to unpack .../34-libnss3_2%3a3.32-1ubuntu3_amd64.deb ...\n",
            "Unpacking libnss3:amd64 (2:3.32-1ubuntu3) ...\n",
            "Selecting previously unselected package libpoppler68:amd64.\n",
            "Preparing to unpack .../35-libpoppler68_0.57.0-2ubuntu4.2_amd64.deb ...\n",
            "Unpacking libpoppler68:amd64 (0.57.0-2ubuntu4.2) ...\n",
            "Selecting previously unselected package libpq5:amd64.\n",
            "Preparing to unpack .../36-libpq5_9.6.8-0ubuntu0.17.10_amd64.deb ...\n",
            "Unpacking libpq5:amd64 (9.6.8-0ubuntu0.17.10) ...\n",
            "Selecting previously unselected package libqhull7:amd64.\n",
            "Preparing to unpack .../37-libqhull7_2015.2-2_amd64.deb ...\n",
            "Unpacking libqhull7:amd64 (2015.2-2) ...\n",
            "Selecting previously unselected package libspatialite7:amd64.\n",
            "Preparing to unpack .../38-libspatialite7_4.3.0a-5build1_amd64.deb ...\n",
            "Unpacking libspatialite7:amd64 (4.3.0a-5build1) ...\n",
            "Selecting previously unselected package libwebp6:amd64.\n",
            "Preparing to unpack .../39-libwebp6_0.6.0-3_amd64.deb ...\n",
            "Unpacking libwebp6:amd64 (0.6.0-3) ...\n",
            "Selecting previously unselected package libxerces-c3.1:amd64.\n",
            "Preparing to unpack .../40-libxerces-c3.1_3.1.4+debian-2_amd64.deb ...\n",
            "Unpacking libxerces-c3.1:amd64 (3.1.4+debian-2) ...\n",
            "Selecting previously unselected package odbcinst.\n",
            "Preparing to unpack .../41-odbcinst_2.3.4-1_amd64.deb ...\n",
            "Unpacking odbcinst (2.3.4-1) ...\n",
            "Selecting previously unselected package odbcinst1debian2:amd64.\n",
            "Preparing to unpack .../42-odbcinst1debian2_2.3.4-1_amd64.deb ...\n",
            "Unpacking odbcinst1debian2:amd64 (2.3.4-1) ...\n",
            "Selecting previously unselected package libgdal20.\n",
            "Preparing to unpack .../43-libgdal20_2.2.1+dfsg-2build3_amd64.deb ...\n",
            "Unpacking libgdal20 (2.2.1+dfsg-2build3) ...\n",
            "Selecting previously unselected package gdal-bin.\n",
            "Preparing to unpack .../44-gdal-bin_2.2.1+dfsg-2build3_amd64.deb ...\n",
            "Unpacking gdal-bin (2.2.1+dfsg-2build3) ...\n",
            "Selecting previously unselected package python-numpy.\n",
            "Preparing to unpack .../45-python-numpy_1%3a1.12.1-3.1ubuntu4_amd64.deb ...\n",
            "Unpacking python-numpy (1:1.12.1-3.1ubuntu4) ...\n",
            "Selecting previously unselected package python-gdal.\n",
            "Preparing to unpack .../46-python-gdal_2.2.1+dfsg-2build3_amd64.deb ...\n",
            "Unpacking python-gdal (2.2.1+dfsg-2build3) ...\n",
            "Selecting previously unselected package proj-bin.\n",
            "Preparing to unpack .../47-proj-bin_4.9.3-2_amd64.deb ...\n",
            "Unpacking proj-bin (4.9.3-2) ...\n",
            "Setting up libminizip1:amd64 (1.1-8) ...\n",
            "Setting up libxerces-c3.1:amd64 (3.1.4+debian-2) ...\n",
            "Setting up libdap25:amd64 (3.19.0-1) ...\n",
            "Setting up libnetcdf11 (1:4.4.1.1-2ubuntu1) ...\n",
            "Setting up libopenjp2-7:amd64 (2.2.0-1) ...\n",
            "Setting up libqhull7:amd64 (2015.2-2) ...\n",
            "Setting up liblcms2-2:amd64 (2.7-1ubuntu1) ...\n",
            "Setting up libjbig0:amd64 (2.1-3.1) ...\n",
            "Setting up poppler-data (0.4.8-1) ...\n",
            "Setting up libjson-c3:amd64 (0.12.1-1.2) ...\n",
            "Setting up mysql-common (5.8+1.0.2ubuntu1) ...\n",
            "update-alternatives: using /etc/mysql/my.cnf.fallback to provide /etc/mysql/my.cnf (my.cnf) in auto mode\n",
            "Setting up libtiff5:amd64 (4.0.8-5ubuntu0.1) ...\n",
            "Setting up libgif7:amd64 (5.1.4-1) ...\n",
            "Setting up libepsilon1:amd64 (0.9.2+dfsg-2) ...\n",
            "Setting up libsuperlu5:amd64 (5.2.1+dfsg1-2) ...\n",
            "Setting up libnspr4:amd64 (2:4.16-1ubuntu2) ...\n",
            "Setting up python-numpy (1:1.12.1-3.1ubuntu4) ...\n",
            "Setting up libfreexl1:amd64 (1.0.3-1) ...\n",
            "Setting up libfyba0:amd64 (4.1.1-3) ...\n",
            "Setting up libdapclient6v5:amd64 (3.19.0-1) ...\n",
            "Setting up gdal-data (2.2.1+dfsg-2build3) ...\n",
            "Setting up libpq5:amd64 (9.6.8-0ubuntu0.17.10) ...\n",
            "Processing triggers for libc-bin (2.26-0ubuntu2.1) ...\n",
            "Setting up libltdl7:amd64 (2.4.6-2) ...\n",
            "Setting up libarpack2:amd64 (3.5.0+real-1) ...\n",
            "Setting up libmysqlclient20:amd64 (5.7.22-0ubuntu0.17.10.1) ...\n",
            "Setting up libhdf4-0-alt (4.2.13-1) ...\n",
            "Setting up libgeos-3.5.1 (3.5.1-3) ...\n",
            "Setting up liburiparser1:amd64 (0.8.4-1) ...\n",
            "Setting up proj-data (4.9.3-2) ...\n",
            "Setting up libwebp6:amd64 (0.6.0-3) ...\n",
            "Setting up libproj12:amd64 (4.9.3-2) ...\n"
          ],
          "name": "stdout"
        },
        {
          "output_type": "stream",
          "text": [
            "Setting up libodbc1:amd64 (2.3.4-1) ...\r\n",
            "Setting up libnss3:amd64 (2:3.32-1ubuntu3) ...\r\n",
            "Setting up libarmadillo7 (1:7.960.1+dfsg-1) ...\n",
            "Setting up libkmlbase1:amd64 (1.3.0-4) ...\n",
            "Setting up libogdi3.2 (3.2.0+ds-2) ...\n",
            "Setting up libgeos-c1v5 (3.5.1-3) ...\n",
            "Setting up proj-bin (4.9.3-2) ...\n",
            "Setting up libgeotiff2:amd64 (1.4.2-2build1) ...\n",
            "Setting up libspatialite7:amd64 (4.3.0a-5build1) ...\n",
            "Setting up libkmldom1:amd64 (1.3.0-4) ...\n",
            "Setting up libpoppler68:amd64 (0.57.0-2ubuntu4.2) ...\n",
            "Setting up libkmlengine1:amd64 (1.3.0-4) ...\n",
            "Setting up odbcinst1debian2:amd64 (2.3.4-1) ...\n",
            "Setting up odbcinst (2.3.4-1) ...\n",
            "Setting up libgdal20 (2.2.1+dfsg-2build3) ...\n",
            "Setting up python-gdal (2.2.1+dfsg-2build3) ...\n",
            "Setting up gdal-bin (2.2.1+dfsg-2build3) ...\n",
            "Processing triggers for libc-bin (2.26-0ubuntu2.1) ...\n"
          ],
          "name": "stdout"
        }
      ]
    },
    {
      "metadata": {
        "id": "lEt55_wFZAJJ",
        "colab_type": "code",
        "colab": {
          "base_uri": "https://localhost:8080/",
          "height": 34
        },
        "outputId": "45e37554-60bc-45ef-fb12-08568712ee30"
      },
      "cell_type": "code",
      "source": [
        "pwd"
      ],
      "execution_count": 14,
      "outputs": [
        {
          "output_type": "execute_result",
          "data": {
            "text/plain": [
              "u'/content/anuga_core'"
            ]
          },
          "metadata": {
            "tags": []
          },
          "execution_count": 14
        }
      ]
    },
    {
      "metadata": {
        "id": "WxYunKjSZbdW",
        "colab_type": "code",
        "colab": {
          "base_uri": "https://localhost:8080/",
          "height": 2332
        },
        "outputId": "fdf83558-cec1-4810-d9d0-a4ffef9272c0"
      },
      "cell_type": "code",
      "source": [
        "!python runtests.py"
      ],
      "execution_count": 15,
      "outputs": [
        {
          "output_type": "stream",
          "text": [
            "Building, see build.log...\n",
            "Build OK\n",
            "Running unit tests for anuga\n",
            "NumPy version 1.14.3\n",
            "NumPy relaxed strides checking option: True\n",
            "NumPy is installed in /usr/local/lib/python2.7/dist-packages/numpy\n",
            "Python version 2.7.14 (default, Sep 23 2017, 22:06:14) [GCC 7.2.0]\n",
            "nose version 1.3.7\n",
            "/content/anuga_core/build/testenv/lib/python2.7/site-packages/anuga/abstract_2d_finite_volumes/ermapper_grids.py:200: DeprecationWarning: The binary mode of fromstring is deprecated, as it behaves surprisingly on unicode inputs. Use frombuffer instead\n",
            "  grid_as_float = num.fromstring(input_string,data_format)\n",
            "...................................................................................................................................................................................................................................................................................................................................................................................................................................................................................................................................................................."
          ],
          "name": "stdout"
        },
        {
          "output_type": "stream",
          "text": [
            ".............................................................................................................................................................................................................................................................................................................................................................................................................................................................................................................................................................................. ==================================================\n",
            "UNITTEST  test_weir_orifice_1\n",
            "culvert_width  10.0\n",
            "culvert_depth  3.0\n",
            "culvert_blockage  0.0\n",
            "culvert_length  10.0\n",
            "inlet_depth  0.57\n",
            "inlet_velocity  1.93\n",
            "outlet_depth  0.45\n",
            "outlet_velocity  2.03\n",
            "sum_loss  1.5\n",
            "manning  0.015\n",
            " \n",
            "flow_width  10.0\n",
            "driving_energy  0.759852191641\n",
            "delta_total_energy  0.109816513761\n",
            "SPEC_E =  0.76\n",
            "Delta E =  0.11\n",
            "   ANUGAcalcsTEST Q-v-d  4.95,1.14,0.40\n",
            "spreadsheet calculation  4.95,1.14,0.40\n",
            ".==================================================\n",
            "UNITTEST  test_weir_orifice_2\n",
            "culvert_width  10.0\n",
            "culvert_depth  3.0\n",
            "culvert_blockage  0.0\n",
            "culvert_length  10.0\n",
            "inlet_depth  1.99\n",
            "inlet_velocity  3.59\n",
            "outlet_depth  1.9\n",
            "outlet_velocity  3.82\n",
            "sum_loss  1.5\n",
            "manning  0.015\n",
            " \n",
            "flow_width  10.0\n",
            "driving_energy  2.64688583078\n",
            "delta_total_energy  0.00413455657492\n",
            "SPEC_E =  2.65\n",
            "Delta E =  0.00\n",
            "ANUGAcalcsTEST Q-v-d  0.82,0.22,0.35\n",
            "spreadsheet calculation  0.82,0.22,0.35\n",
            ".==================================================\n",
            "UNITTEST  test_weir_orifice_3\n",
            "culvert_width  10.0\n",
            "culvert_depth  3.0\n",
            "culvert_blockage  0.0\n",
            "culvert_length  10.0\n",
            "inlet_depth  6.15\n",
            "inlet_velocity  1.82\n",
            "outlet_depth  2.02\n",
            "outlet_velocity  8.82\n",
            "sum_loss  1.5\n",
            "manning  0.015\n",
            " \n",
            "flow_width  10.0\n",
            "driving_energy  6.31882772681\n",
            "delta_total_energy  0.433873598369\n",
            "SPEC_E =  6.32\n",
            "Delta E =  0.43\n",
            "   ANUGAcalcsTEST Q-v-d  67.64,2.36,2.04\n",
            "spreadsheet calculation  67.64,2.36,2.04\n",
            ".==================================================\n",
            "UNITTEST  test_weir_orifice_4\n",
            "culvert_width  10.0\n",
            "culvert_depth  3.0\n",
            "culvert_blockage  0.0\n",
            "culvert_length  100.0\n",
            "inlet_depth  12.0\n",
            "inlet_velocity  2.0\n",
            "outlet_depth  10.0\n",
            "outlet_velocity  2.5\n",
            "sum_loss  1.5\n",
            "manning  0.015\n",
            " \n",
            "flow_width  10.0\n",
            "driving_energy  12.2038735984\n",
            "delta_total_energy  1.98532110092\n",
            "SPEC_E =  12.20\n",
            "Delta E =  1.99\n",
            "   ANUGAcalcsTEST Q-v-d  231.74,4.83,3.00\n",
            "spreadsheet calculation  231.74,4.83,3.00\n",
            ".==================================================\n",
            "UNITTEST  test_weir_orifice_5\n",
            "culvert_width  10.0\n",
            "culvert_depth  3.0\n",
            "culvert_blockage  0.0\n",
            "culvert_length  100.0\n",
            "inlet_depth  12.0\n",
            "inlet_velocity  2.0\n",
            "outlet_depth  10.0\n",
            "outlet_velocity  2.5\n",
            "sum_loss  1.5\n",
            "manning  0.015\n",
            " \n",
            "flow_width  10.0\n",
            "driving_energy  12.2038735984\n",
            "delta_total_energy  2.88532110092\n",
            "SPEC_E =  12.20\n",
            "Delta E =  2.89\n",
            "   ANUGAcalcsTEST Q-v-d  279.38,5.82,3.00\n",
            "spreadsheet calculation  279.38,5.82,3.00\n",
            ".==================================================\n",
            "UNITTEST  test_weir_orifice_6\n",
            "culvert_width  10.0\n",
            "culvert_depth  3.0\n",
            "culvert_blockage  0.0\n",
            "culvert_length  100.0\n",
            "inlet_depth  12.0\n",
            "inlet_velocity  2.0\n",
            "outlet_depth  10.0\n",
            "outlet_velocity  2.5\n",
            "sum_loss  1.5\n",
            "manning  0.015\n",
            " \n",
            "flow_width  10.0\n",
            "driving_energy  12.2038735984\n",
            "delta_total_energy  11.8853211009\n",
            "SPEC_E =  12.20\n",
            "Delta E =  11.89\n",
            "   ANUGAcalcsTEST Q-v-d  419.95,8.75,3.00\n",
            "spreadsheet calculation  419.95,8.75,3.00\n",
            "......................................................................."
          ],
          "name": "stdout"
        },
        {
          "output_type": "stream",
          "text": [
            "..................................................................\n",
            "----------------------------------------------------------------------\n",
            "Ran 1248 tests in 123.505s\n",
            "\n",
            "OK\n"
          ],
          "name": "stdout"
        }
      ]
    },
    {
      "metadata": {
        "id": "VdLijs0AZsi-",
        "colab_type": "code",
        "colab": {
          "base_uri": "https://localhost:8080/",
          "height": 850
        },
        "outputId": "608d97eb-fc7e-4afa-a9da-7c67bbd8939d"
      },
      "cell_type": "code",
      "source": [
        "!pip install gdal"
      ],
      "execution_count": 12,
      "outputs": [
        {
          "output_type": "stream",
          "text": [
            "Collecting gdal\n",
            "\u001b[?25l  Downloading https://files.pythonhosted.org/packages/4d/74/15958684bdec900d72c13fdc7e455d75d36437018e238f8c8fc7dd5aad37/GDAL-2.2.4.tar.gz (475kB)\n",
            "\u001b[K    100% |████████████████████████████████| 481kB 7.9MB/s \n",
            "\u001b[?25h    Complete output from command python setup.py egg_info:\n",
            "    running egg_info\n",
            "    creating pip-egg-info/GDAL.egg-info\n",
            "    writing pip-egg-info/GDAL.egg-info/PKG-INFO\n",
            "    writing top-level names to pip-egg-info/GDAL.egg-info/top_level.txt\n",
            "    writing dependency_links to pip-egg-info/GDAL.egg-info/dependency_links.txt\n",
            "    writing manifest file 'pip-egg-info/GDAL.egg-info/SOURCES.txt'\n",
            "    Traceback (most recent call last):\n",
            "      File \"<string>\", line 1, in <module>\n",
            "      File \"/tmp/pip-install-CPILSY/gdal/setup.py\", line 342, in <module>\n",
            "        **extra )\n",
            "      File \"/usr/local/lib/python2.7/dist-packages/setuptools/__init__.py\", line 129, in setup\n",
            "        return distutils.core.setup(**attrs)\n",
            "      File \"/usr/lib/python2.7/distutils/core.py\", line 151, in setup\n",
            "        dist.run_commands()\n",
            "      File \"/usr/lib/python2.7/distutils/dist.py\", line 953, in run_commands\n",
            "        self.run_command(cmd)\n",
            "      File \"/usr/lib/python2.7/distutils/dist.py\", line 972, in run_command\n",
            "        cmd_obj.run()\n",
            "      File \"/usr/local/lib/python2.7/dist-packages/setuptools/command/egg_info.py\", line 278, in run\n",
            "        self.find_sources()\n",
            "      File \"/usr/local/lib/python2.7/dist-packages/setuptools/command/egg_info.py\", line 293, in find_sources\n",
            "        mm.run()\n",
            "      File \"/usr/local/lib/python2.7/dist-packages/setuptools/command/egg_info.py\", line 524, in run\n",
            "        self.add_defaults()\n",
            "      File \"/usr/local/lib/python2.7/dist-packages/setuptools/command/egg_info.py\", line 560, in add_defaults\n",
            "        sdist.add_defaults(self)\n",
            "      File \"/usr/local/lib/python2.7/dist-packages/setuptools/command/py36compat.py\", line 36, in add_defaults\n",
            "        self._add_defaults_ext()\n",
            "      File \"/usr/local/lib/python2.7/dist-packages/setuptools/command/py36compat.py\", line 119, in _add_defaults_ext\n",
            "        build_ext = self.get_finalized_command('build_ext')\n",
            "      File \"/usr/lib/python2.7/distutils/cmd.py\", line 312, in get_finalized_command\n",
            "        cmd_obj.ensure_finalized()\n",
            "      File \"/usr/lib/python2.7/distutils/cmd.py\", line 109, in ensure_finalized\n",
            "        self.finalize_options()\n",
            "      File \"/tmp/pip-install-CPILSY/gdal/setup.py\", line 217, in finalize_options\n",
            "        self.gdaldir = self.get_gdal_config('prefix')\n",
            "      File \"/tmp/pip-install-CPILSY/gdal/setup.py\", line 191, in get_gdal_config\n",
            "        return fetch_config(option)\n",
            "      File \"/tmp/pip-install-CPILSY/gdal/setup.py\", line 144, in fetch_config\n",
            "        raise gdal_config_error, e\"\"\")\n",
            "      File \"<string>\", line 4, in <module>\n",
            "    __main__.gdal_config_error: [Errno 2] No such file or directory\n",
            "    \n",
            "    ----------------------------------------\n",
            "\u001b[31mCommand \"python setup.py egg_info\" failed with error code 1 in /tmp/pip-install-CPILSY/gdal/\u001b[0m\n"
          ],
          "name": "stdout"
        }
      ]
    },
    {
      "metadata": {
        "id": "9vB1IYAsbWjB",
        "colab_type": "code",
        "colab": {
          "base_uri": "https://localhost:8080/",
          "height": 34
        },
        "outputId": "a324a3d8-f381-40f3-f25e-fa96a7edbbc6"
      },
      "cell_type": "code",
      "source": [
        "pwd"
      ],
      "execution_count": 16,
      "outputs": [
        {
          "output_type": "execute_result",
          "data": {
            "text/plain": [
              "u'/content/anuga_core'"
            ]
          },
          "metadata": {
            "tags": []
          },
          "execution_count": 16
        }
      ]
    },
    {
      "metadata": {
        "id": "PU7H7Y9t0EXP",
        "colab_type": "code",
        "colab": {
          "base_uri": "https://localhost:8080/",
          "height": 187
        },
        "outputId": "f67bf7ff-4024-4abb-c960-674816d02424"
      },
      "cell_type": "code",
      "source": [
        "!git pull"
      ],
      "execution_count": 17,
      "outputs": [
        {
          "output_type": "stream",
          "text": [
            "remote: Counting objects: 6, done.\u001b[K\r\n",
            "remote: Compressing objects:  16% (1/6)   \u001b[K\rremote: Compressing objects:  33% (2/6)   \u001b[K\rremote: Compressing objects:  50% (3/6)   \u001b[K\rremote: Compressing objects:  66% (4/6)   \u001b[K\rremote: Compressing objects:  83% (5/6)   \u001b[K\rremote: Compressing objects: 100% (6/6)   \u001b[K\rremote: Compressing objects: 100% (6/6), done.\u001b[K\r\n",
            "remote: Total 6 (delta 0), reused 0 (delta 0), pack-reused 0\u001b[K\r\n",
            "Unpacking objects:  16% (1/6)   \rUnpacking objects:  33% (2/6)   \rUnpacking objects:  50% (3/6)   \rUnpacking objects:  66% (4/6)   \rUnpacking objects:  83% (5/6)   \rUnpacking objects: 100% (6/6)   \rUnpacking objects: 100% (6/6), done.\r\n",
            "From https://github.com/GeoscienceAustralia/anuga_core\r\n",
            "   2e036523..806a9f4e  master     -> origin/master\n",
            "Updating 2e036523..806a9f4e\n",
            "Fast-forward\n",
            " anuga/structures/tests/test_weir_orifice_trapezoid_operator.py | 2 \u001b[32m+\u001b[m\u001b[31m-\u001b[m\n",
            " 1 file changed, 1 insertion(+), 1 deletion(-)\n"
          ],
          "name": "stdout"
        }
      ]
    },
    {
      "metadata": {
        "id": "yTJCDzyp0GVW",
        "colab_type": "code",
        "colab": {}
      },
      "cell_type": "code",
      "source": [
        ""
      ],
      "execution_count": 0,
      "outputs": []
    },
    {
      "metadata": {
        "id": "7Wp9vEc40MnC",
        "colab_type": "text"
      },
      "cell_type": "markdown",
      "source": [
        "Test running text cell,  \n",
        "$$\n",
        "x^2 = \\frac12\n",
        "$$\n",
        "and dispaly maths too!\n"
      ]
    }
  ]
}