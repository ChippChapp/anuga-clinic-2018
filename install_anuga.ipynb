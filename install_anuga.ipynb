{
  "nbformat": 4,
  "nbformat_minor": 0,
  "metadata": {
    "colab": {
      "name": "install-anuga.ipynb",
      "version": "0.3.2",
      "provenance": [],
      "collapsed_sections": []
    },
    "kernelspec": {
      "name": "python2",
      "display_name": "Python 2"
    }
  },
  "cells": [
    {
      "cell_type": "markdown",
      "metadata": {
        "id": "view-in-github",
        "colab_type": "text"
      },
      "source": [
        "[View in Colaboratory](https://colab.research.google.com/github/stoiver/anuga-clinic-2018/blob/master/install_anuga.ipynb)"
      ]
    },
    {
      "metadata": {
        "id": "MFkDMm10DPK7",
        "colab_type": "text"
      },
      "cell_type": "markdown",
      "source": [
        "# CSDMS ANUGA Clinic 2018\n",
        "\n",
        "## Install ANUGA\n",
        "\n",
        "Run the following cell to install ANUGA on Colaboratory. \n",
        "\n",
        "Wait until you see the comment *(5) Ready to go* before proceeding to subsequent commands. \n",
        "The install should take less than a minute."
      ]
    },
    {
      "metadata": {
        "id": "dxT7B6U9YqtB",
        "colab_type": "code",
        "colab": {}
      },
      "cell_type": "code",
      "source": [
        "print \"(1) Install netcdf nose via pip\"\n",
        "!pip -q install netCDF4 nose  > /dev/null 2>&1 \n",
        "print \"(2) Install gdal via apt-get\"\n",
        "!apt-get -q -y install python-gdal gdal-bin  > /dev/null 2>&1 \n",
        "\n",
        "print \"(3) Download anuga_core github repository\"\n",
        "!git clone --quiet https://github.com/GeoscienceAustralia/anuga_core.git > /dev/null 2>&1  \n",
        "print \"(4) Install anuga\"\n",
        "import os\n",
        "os.chdir('anuga_core')\n",
        "!python setup.py --quiet install  > /dev/null 2>&1 \n",
        "os.chdir('../')\n",
        "print \"(5) Ready to go\""
      ],
      "execution_count": 0,
      "outputs": []
    },
    {
      "metadata": {
        "id": "n6CIHtFYYbkx",
        "colab_type": "text"
      },
      "cell_type": "markdown",
      "source": [
        "## Import ANUGA and other libraries into notebook\n",
        "\n",
        "Allows us access to `anuga` and inline plotting. Also we have a work around to ensure we recover output to the notebook after the import of `netcdf`."
      ]
    },
    {
      "metadata": {
        "id": "1l0-N381KKGO",
        "colab_type": "code",
        "colab": {}
      },
      "cell_type": "code",
      "source": [
        "import sys\n",
        "stdout = sys.stdout\n",
        "\n",
        "import anuga\n",
        "import numpy as np\n",
        "import matplotlib.pyplot as plt\n",
        "%matplotlib inline\n",
        "\n",
        "\n",
        "# NetCDF changes stdout to the terminal\n",
        "# This resets it\n",
        "reload(sys)\n",
        "sys.stdout = stdout"
      ],
      "execution_count": 0,
      "outputs": []
    },
    {
      "metadata": {
        "id": "p_QOy0bRZ37C",
        "colab_type": "text"
      },
      "cell_type": "markdown",
      "source": [
        "## Create an ANUGA domain\n",
        "\n",
        "A `domain` is the core object which contains the mesh and the quantities for the particular problem. Here we create a simple rectangular domain. We set the name to `channel1` which will be used when storing the simulation output to a `sww` file called `channel1.sww`."
      ]
    },
    {
      "metadata": {
        "id": "nCKdVO1BPAhx",
        "colab_type": "code",
        "colab": {}
      },
      "cell_type": "code",
      "source": [
        "domain = anuga.rectangular_cross_domain(40, 20, len1=20.0, len2=10.0)\n",
        "domain.set_name('channel1')"
      ],
      "execution_count": 0,
      "outputs": []
    },
    {
      "metadata": {
        "id": "mfgw_HkDarZY",
        "colab_type": "text"
      },
      "cell_type": "markdown",
      "source": [
        "Let's look at the mesh."
      ]
    },
    {
      "metadata": {
        "id": "Bb2oWmRraSU6",
        "colab_type": "code",
        "colab": {}
      },
      "cell_type": "code",
      "source": [
        "import matplotlib.tri as tri\n",
        "nodes = domain.nodes\n",
        "triangles = domain.triangles\n",
        "\n",
        "triang = tri.Triangulation(nodes[:,0], nodes[:,1], triangles)\n",
        "\n",
        "plt.triplot(nodes[:,0], nodes[:,1], triangles, linewidth = 0.4);"
      ],
      "execution_count": 0,
      "outputs": []
    },
    {
      "metadata": {
        "id": "ZGGxHd8EEvea",
        "colab_type": "text"
      },
      "cell_type": "markdown",
      "source": [
        "## Setup Initial Conditions\n",
        "\n",
        "We have to setup the values of various quantities associated with the domain. In particular we need to setup the `elevation` the elevation of the bed or the bathymetry. In this case we will do this using a function. "
      ]
    },
    {
      "metadata": {
        "id": "KYe-klLvkpug",
        "colab_type": "code",
        "colab": {}
      },
      "cell_type": "code",
      "source": [
        "def topography(x, y):\n",
        "\n",
        "    z = -x/10\n",
        "\n",
        "    N = len(x)\n",
        "    \n",
        "    minx = np.floor(np.max(x)/4)\n",
        "    stepx1 = np.min(x[(x >= minx)])\n",
        "    stepx2 = np.min(x[(x > stepx1 + 0.25)])\n",
        "    \n",
        "    minx = np.floor(np.max(x)/2)\n",
        "    stepx3 = np.min(x[(x >= minx)])\n",
        "    stepx4 = np.min(x[(x > stepx3 + 0.25)])\n",
        "    \n",
        "    minx = np.floor(3*np.max(x)/4)\n",
        "    stepx5 = np.min(x[(x >= minx)])\n",
        "    stepx6 = np.min(x[(x > stepx5 + 0.25)])\n",
        "    \n",
        "    dist = 0.4 * (np.max(y) - np.min(y))\n",
        "    \n",
        "    for i in range(N):\n",
        "        if stepx1 <= x[i] <= stepx2:\n",
        "            if (y[i] < dist):\n",
        "                z[i] += 2\n",
        "                \n",
        "        if stepx3 <= x[i] <= stepx4:\n",
        "            if (y[i] > np.max(y) - dist):\n",
        "                z[i] += 2\n",
        "                \n",
        "        if stepx5 <= x[i] <= stepx6:\n",
        "            if (y[i] < dist):\n",
        "                z[i] += 2\n",
        "            \n",
        "    return z"
      ],
      "execution_count": 0,
      "outputs": []
    },
    {
      "metadata": {
        "id": "RXHrU0jPFuzh",
        "colab_type": "text"
      },
      "cell_type": "markdown",
      "source": [
        "### Set Quantities\n",
        "\n",
        "Now we set the `elevation`, `stage` and `friction` using the `domain.set_quantity` function. "
      ]
    },
    {
      "metadata": {
        "id": "xLn6Mozrnedv",
        "colab_type": "code",
        "colab": {}
      },
      "cell_type": "code",
      "source": [
        "domain.set_quantity('elevation', topography, location='centroids') # Use function for elevation\n",
        "domain.set_quantity('friction', 0.01, location='centroids')        # Constant friction \n",
        "domain.set_quantity('stage', expression='elevation', location='centroids') # Dry Bed "
      ],
      "execution_count": 0,
      "outputs": []
    },
    {
      "metadata": {
        "id": "B1Y_Aad3GWV3",
        "colab_type": "text"
      },
      "cell_type": "markdown",
      "source": [
        "### View Elevation\n",
        "\n",
        "Let's use the `matplotlib` function `tripcolor` to plot the `elevation` quantitiy.  We access the `elevation` quantity using `domain.quantities['elevation']`. "
      ]
    },
    {
      "metadata": {
        "id": "qGJQfKBxnjGm",
        "colab_type": "code",
        "colab": {}
      },
      "cell_type": "code",
      "source": [
        "elev = domain.quantities['elevation'].centroid_values\n",
        "depth = domain.quantities['height'].centroid_values\n",
        "\n",
        "plt.tripcolor(nodes[:,0], nodes[:,1], triangles, \n",
        "              facecolors = elev, \n",
        "              edgecolors='k', \n",
        "              cmap='jet')\n",
        "plt.colorbar();\n"
      ],
      "execution_count": 0,
      "outputs": []
    },
    {
      "metadata": {
        "id": "jlgKD23QvDhF",
        "colab_type": "text"
      },
      "cell_type": "markdown",
      "source": [
        "## Setup Boundary Conditions\n",
        "\n",
        "The rectangular domain has 4 tagged boundaries, left, top, right and bottom. We need to set boundary conditons for each of these tagged boundaries. We can set Dirichlet type BC with specified values of stage, and x and y \"momentum\". Another common BC is `Reflective_boundary` which mimic a wall. "
      ]
    },
    {
      "metadata": {
        "id": "rF7q2bzOn64K",
        "colab_type": "code",
        "colab": {}
      },
      "cell_type": "code",
      "source": [
        "Bi = anuga.Dirichlet_boundary([0.4, 0, 0])         # Inflow\n",
        "Bo = anuga.Dirichlet_boundary([-2, 0, 0])          # Inflow\n",
        "Br = anuga.Reflective_boundary(domain)             # Solid reflective wall\n",
        "\n",
        "domain.set_boundary({'left': Bi, 'right': Bo, 'top': Br, 'bottom': Br})"
      ],
      "execution_count": 0,
      "outputs": []
    },
    {
      "metadata": {
        "id": "YRJs8HbRwLfM",
        "colab_type": "text"
      },
      "cell_type": "markdown",
      "source": [
        "## Run the Evolution\n",
        "\n",
        "We evolve using a `for` statement, which evolves the quantities using the shallow water wave solver. The calculation `yields` every `yieldstep` seconds, up to a given `duration`."
      ]
    },
    {
      "metadata": {
        "id": "3yxIDXQiH3XN",
        "colab_type": "code",
        "colab": {}
      },
      "cell_type": "code",
      "source": [
        "for t in domain.evolve(yieldstep=5, duration=40):\n",
        "  \n",
        "    plt.figure()\n",
        "\n",
        "    triang.set_mask(depth>0.01)\n",
        "    plt.tripcolor(triang, \n",
        "              facecolors = elev,\n",
        "              cmap='Greys_r')\n",
        "    \n",
        "    triang.set_mask(depth<0.01)\n",
        "    plt.tripcolor(triang, \n",
        "              facecolors = depth,\n",
        "              cmap='viridis')\n",
        "\n",
        "    plt.colorbar()\n",
        "    plt.savefig('channel1_{0:0>3}.png'.format(int(t/5)))\n",
        "    plt.close()\n",
        "    \n",
        "    domain.print_timestepping_statistics()\n",
        "    \n",
        "\n",
        "  "
      ],
      "execution_count": 0,
      "outputs": []
    },
    {
      "metadata": {
        "id": "-sd53RlJJXbx",
        "colab_type": "code",
        "colab": {}
      },
      "cell_type": "code",
      "source": [
        "from IPython.display import HTML\n",
        "import numpy as np\n",
        "import glob\n",
        "from matplotlib import image, animation\n",
        "from matplotlib import pyplot as plt\n",
        "\n",
        "\n",
        "img_files = sorted(glob.glob(\"channel1_*.png\"))\n",
        "\n",
        "#print img_files\n",
        "\n",
        "figsize=(10,6)\n",
        "\n",
        "fig = plt.figure(figsize=figsize, dpi=80)\n",
        "ax = fig.add_axes([0, 0, 1, 1])\n",
        "ax.axis('off')  # so there's not a second set of axes\n",
        "im = plt.imshow(image.imread(img_files[0]))\n",
        "\n",
        "def init():\n",
        "  im.set_data(image.imread(img_files[0]))\n",
        "  return im,\n",
        "\n",
        "def animate(i):\n",
        "  image_i=image.imread(img_files[i])\n",
        "  im.set_data(image_i)\n",
        "  return im,\n",
        "\n",
        "anim = animation.FuncAnimation(fig, animate, init_func=init,\n",
        "                          frames=len(img_files), interval=200, blit=True)\n",
        "\n",
        "plt.close()\n",
        "HTML(anim.to_jshtml())"
      ],
      "execution_count": 0,
      "outputs": []
    },
    {
      "metadata": {
        "id": "uYHIsL_dvxU4",
        "colab_type": "code",
        "colab": {}
      },
      "cell_type": "code",
      "source": [
        "!rm None*.png"
      ],
      "execution_count": 0,
      "outputs": []
    },
    {
      "metadata": {
        "id": "rmA20dQtzkIa",
        "colab_type": "code",
        "colab": {}
      },
      "cell_type": "code",
      "source": [
        "ls"
      ],
      "execution_count": 0,
      "outputs": []
    },
    {
      "metadata": {
        "id": "AUktC7oh2qRX",
        "colab_type": "code",
        "colab": {}
      },
      "cell_type": "code",
      "source": [
        ""
      ],
      "execution_count": 0,
      "outputs": []
    }
  ]
}